{
 "cells": [
  {
   "cell_type": "markdown",
   "id": "a233e903",
   "metadata": {},
   "source": [
    "# Programming for Data Analysis Assignment 2023\n"
   ]
  },
  {
   "cell_type": "markdown",
   "metadata": {},
   "source": [
    "Preliminary idea for the project. \n",
    "\n",
    "Performance plastics are created using woven fabric. The fabric is dipped in a liquid formula which is then dried through a series of controlled temperature zones at a controlled speed. The specific gravity of the liquid formula has to be controlled as the process proceeds. "
   ]
  },
  {
   "cell_type": "code",
   "execution_count": null,
   "metadata": {},
   "outputs": [],
   "source": []
  },
  {
   "cell_type": "markdown",
   "metadata": {},
   "source": []
  }
 ],
 "metadata": {
  "kernelspec": {
   "display_name": "Python 3 (ipykernel)",
   "language": "python",
   "name": "python3"
  },
  "language_info": {
   "codemirror_mode": {
    "name": "ipython",
    "version": 3
   },
   "file_extension": ".py",
   "mimetype": "text/x-python",
   "name": "python",
   "nbconvert_exporter": "python",
   "pygments_lexer": "ipython3",
   "version": "3.9.13"
  }
 },
 "nbformat": 4,
 "nbformat_minor": 5
}
